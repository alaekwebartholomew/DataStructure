{
  "nbformat": 4,
  "nbformat_minor": 0,
  "metadata": {
    "colab": {
      "provenance": [],
      "authorship_tag": "ABX9TyMOKWzlLaiLCeWLZloEB/Mf",
      "include_colab_link": true
    },
    "kernelspec": {
      "name": "python3",
      "display_name": "Python 3"
    },
    "language_info": {
      "name": "python"
    }
  },
  "cells": [
    {
      "cell_type": "markdown",
      "metadata": {
        "id": "view-in-github",
        "colab_type": "text"
      },
      "source": [
        "<a href=\"https://colab.research.google.com/github/alaekwebartholomew/DataStructure/blob/main/BinaryTree/BinaryTree.ipynb\" target=\"_parent\"><img src=\"https://colab.research.google.com/assets/colab-badge.svg\" alt=\"Open In Colab\"/></a>"
      ]
    },
    {
      "cell_type": "code",
      "execution_count": 15,
      "metadata": {
        "id": "vKQqU5XEqsWx"
      },
      "outputs": [],
      "source": [
        "class BinaryTree:\n",
        "  def __init__(self, data):\n",
        "    self.data = data\n",
        "    self.right = None\n",
        "    self.left = None\n",
        "\n",
        "  def add_child(self, data):\n",
        "    if data == self.data:\n",
        "      return\n",
        "    if data < self.data:\n",
        "      if self.left:\n",
        "        self.left.add_child(data)\n",
        "      else:\n",
        "        self.left = BinaryTree(data)\n",
        "    if data > self.data:\n",
        "      if self.right:\n",
        "        self.right.add_child(data)\n",
        "      else:\n",
        "        self.right = BinaryTree(data)\n",
        "\n",
        "  def in_order_traversal(self):\n",
        "    storage = []\n",
        "    if self.left:\n",
        "      storage += self.left.in_order_traversal()\n",
        "    storage.append(self.data)\n",
        "\n",
        "    if self.right:\n",
        "      storage += self.right.in_order_traversal()\n",
        "\n",
        "    return storage\n",
        "\n",
        "  def pre_order_traversal(self):\n",
        "    storage = [self.data]\n",
        "\n",
        "    if self.left:\n",
        "      storage += self.left.pre_order_traversal()\n",
        "\n",
        "    if self.right:\n",
        "      storage += self.right.pre_order_traversal()\n",
        "\n",
        "    return storage\n",
        "\n",
        "  def post_order_trversal(self):\n",
        "    storage = []\n",
        "\n",
        "    if self.right:\n",
        "      storage += self.right.post_order_trversal()\n",
        "\n",
        "    if self.left:\n",
        "      storage += self.left.post_order_trversal()\n",
        "\n",
        "    storage.append(self.data)\n",
        "\n",
        "    return storage"
      ]
    },
    {
      "cell_type": "code",
      "source": [
        "def build_node(collections):\n",
        "  root_node = BinaryTree(collections[0])\n",
        "  for index in range(len(collections)):\n",
        "    root_node.add_child(collections[index])\n",
        "  return root_node\n",
        "\n",
        "scores = [76, 70, 82, 72, 88, 74, 90]\n",
        "build = build_node(scores)\n",
        "print(build.in_order_traversal())\n",
        "print(build.pre_order_traversal())\n",
        "print(build.post_order_trversal())"
      ],
      "metadata": {
        "colab": {
          "base_uri": "https://localhost:8080/"
        },
        "id": "QNA3eMKq7jBv",
        "outputId": "75d916c7-dc9d-43e5-cec3-0d53c4b5cecf"
      },
      "execution_count": 16,
      "outputs": [
        {
          "output_type": "stream",
          "name": "stdout",
          "text": [
            "[70, 72, 74, 76, 82, 88, 90]\n",
            "[76, 70, 72, 74, 82, 88, 90]\n",
            "[90, 88, 82, 74, 72, 70, 76]\n"
          ]
        }
      ]
    }
  ]
}