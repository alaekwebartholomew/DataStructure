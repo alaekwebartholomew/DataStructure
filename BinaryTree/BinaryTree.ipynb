{
  "cells": [
    {
      "cell_type": "markdown",
      "metadata": {
        "id": "view-in-github",
        "colab_type": "text"
      },
      "source": [
        "<a href=\"https://colab.research.google.com/github/alaekwebartholomew/DataStructure/blob/main/BinaryTree/BinaryTree.ipynb\" target=\"_parent\"><img src=\"https://colab.research.google.com/assets/colab-badge.svg\" alt=\"Open In Colab\"/></a>"
      ]
    },
    {
      "cell_type": "code",
      "execution_count": 3,
      "metadata": {
        "id": "vKQqU5XEqsWx"
      },
      "outputs": [],
      "source": [
        "class BinaryTree:\n",
        "  def __init__(self, data):\n",
        "    self.data = data\n",
        "    self.right = None\n",
        "    self.left = None\n",
        "\n",
        "  def add_child(self, data):\n",
        "    if data == self.data:\n",
        "      return\n",
        "    if data < self.data:\n",
        "      if self.left:\n",
        "        self.left.add_child(data)\n",
        "      else:\n",
        "        self.left = BinaryTree(data)\n",
        "    if data > self.data:\n",
        "      if self.right:\n",
        "        self.right.add_child(data)\n",
        "      else:\n",
        "        self.right = BinaryTree(data)\n",
        "\n",
        "  def in_order_traversal(self):\n",
        "    storage = []\n",
        "    if self.left:\n",
        "      storage += self.left.in_order_traversal()\n",
        "    storage.append(self.data)\n",
        "\n",
        "    if self.right:\n",
        "      storage += self.right.in_order_traversal()\n",
        "\n",
        "    return storage\n",
        "\n",
        "  def pre_order_traversal(self):\n",
        "    storage = [self.data]\n",
        "\n",
        "    if self.left:\n",
        "      storage += self.left.pre_order_traversal()\n",
        "\n",
        "    if self.right:\n",
        "      storage += self.right.pre_order_traversal()\n",
        "\n",
        "    return storage\n",
        "\n",
        "  def post_order_trversal(self):\n",
        "    storage = []\n",
        "\n",
        "    if self.right:\n",
        "      storage += self.right.post_order_trversal()\n",
        "\n",
        "    if self.left:\n",
        "      storage += self.left.post_order_trversal()\n",
        "\n",
        "    storage.append(self.data)\n",
        "\n",
        "    return storage\n",
        "\n",
        "  def search(self, val):\n",
        "    if self.data == val:\n",
        "      return True\n",
        "    if val < self.data:\n",
        "      if self.left:\n",
        "        return self.left.search(val)\n",
        "      else:\n",
        "        return False\n",
        "    else:\n",
        "      if self.right:\n",
        "        return self.right.search(val)\n",
        "      else:\n",
        "        return False\n",
        "\n",
        "  def find_min(self):\n",
        "    if self.data is None:\n",
        "      return None\n",
        "    if self.left:\n",
        "      return self.left.find_min()\n",
        "    else:\n",
        "      return self.data\n",
        "\n",
        "  def find_max(self):\n",
        "    if self.data is None:\n",
        "      return\n",
        "    if self.right:\n",
        "      return self.right.find_max()\n",
        "    else:\n",
        "      return self.data\n",
        "\n",
        "  def delete(self, val):\n",
        "    if val > self.data:\n",
        "      if self.right:\n",
        "        self.right = self.right.delete(val)\n",
        "    elif val < self.data:\n",
        "      if self.left:\n",
        "        self.left = self.left.delete(val)\n",
        "    else:\n",
        "      if self.right is None and self.left is None:\n",
        "        return None\n",
        "      if self.right is None:\n",
        "        return self.left\n",
        "      if self.left is None:\n",
        "        return self.right\n",
        "      min_v = self.right.find_min()\n",
        "      self.data = min_v\n",
        "      self.right = self.right.delete(min_v)\n",
        "    return self"
      ]
    },
    {
      "cell_type": "code",
      "execution_count": 5,
      "metadata": {
        "colab": {
          "base_uri": "https://localhost:8080/"
        },
        "id": "QNA3eMKq7jBv",
        "outputId": "8e6aed21-402d-4f62-9539-358a29f441ae"
      },
      "outputs": [
        {
          "output_type": "stream",
          "name": "stdout",
          "text": [
            "[72, 74, 76, 82, 88, 90]\n",
            "[76, 72, 74, 82, 88, 90]\n",
            "[90, 88, 82, 74, 72, 76]\n",
            "False\n",
            "72\n",
            "90\n"
          ]
        }
      ],
      "source": [
        "def build_node(collections):\n",
        "  root_node = BinaryTree(collections[0])\n",
        "  for index in range(len(collections)):\n",
        "    root_node.add_child(collections[index])\n",
        "  return root_node\n",
        "\n",
        "scores = [76, 70, 82, 72, 88, 74, 90]\n",
        "build = build_node(scores)\n",
        "build.delete(70)\n",
        "print(build.in_order_traversal())\n",
        "print(build.pre_order_traversal())\n",
        "print(build.post_order_trversal())\n",
        "print(build.search(70))\n",
        "print(build.find_min())\n",
        "print(build.find_max())"
      ]
    }
  ],
  "metadata": {
    "colab": {
      "provenance": [],
      "authorship_tag": "ABX9TyPZr7vN14XYX2fbJexA7lh/",
      "include_colab_link": true
    },
    "kernelspec": {
      "display_name": "Python 3",
      "name": "python3"
    },
    "language_info": {
      "name": "python"
    }
  },
  "nbformat": 4,
  "nbformat_minor": 0
}