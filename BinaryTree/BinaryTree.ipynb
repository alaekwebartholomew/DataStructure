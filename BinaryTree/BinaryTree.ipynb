{
  "nbformat": 4,
  "nbformat_minor": 0,
  "metadata": {
    "colab": {
      "provenance": [],
      "authorship_tag": "ABX9TyNsyezqfqS+jRdJnCB/bCeY",
      "include_colab_link": true
    },
    "kernelspec": {
      "name": "python3",
      "display_name": "Python 3"
    },
    "language_info": {
      "name": "python"
    }
  },
  "cells": [
    {
      "cell_type": "markdown",
      "metadata": {
        "id": "view-in-github",
        "colab_type": "text"
      },
      "source": [
        "<a href=\"https://colab.research.google.com/github/alaekwebartholomew/DataStructure/blob/main/BinaryTree/BinaryTree.ipynb\" target=\"_parent\"><img src=\"https://colab.research.google.com/assets/colab-badge.svg\" alt=\"Open In Colab\"/></a>"
      ]
    },
    {
      "cell_type": "code",
      "execution_count": 1,
      "metadata": {
        "id": "vKQqU5XEqsWx"
      },
      "outputs": [],
      "source": [
        "class BinaryTree:\n",
        "  def __init__(self, data):\n",
        "    self.data = data\n",
        "    self.right = None\n",
        "    self.left = None\n",
        "\n",
        "  def add_child(self, data):\n",
        "    if data == self.data:\n",
        "      return\n",
        "    if data < self.data:\n",
        "      if self.left:\n",
        "        self.left.add_child(data)\n",
        "      else:\n",
        "        self.left = BinaryTree(data)\n",
        "    if data > self.data:\n",
        "      if self.right:\n",
        "        self.right.add_child(data)\n",
        "      else:\n",
        "        self.right = BinaryTree(data)"
      ]
    },
    {
      "cell_type": "code",
      "source": [],
      "metadata": {
        "id": "QNA3eMKq7jBv"
      },
      "execution_count": 2,
      "outputs": []
    }
  ]
}