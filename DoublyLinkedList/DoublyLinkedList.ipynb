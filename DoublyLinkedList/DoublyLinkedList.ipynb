{
  "nbformat": 4,
  "nbformat_minor": 0,
  "metadata": {
    "colab": {
      "provenance": [],
      "authorship_tag": "ABX9TyM739UfPp3iDKUQ557IhHML",
      "include_colab_link": true
    },
    "kernelspec": {
      "name": "python3",
      "display_name": "Python 3"
    },
    "language_info": {
      "name": "python"
    }
  },
  "cells": [
    {
      "cell_type": "markdown",
      "metadata": {
        "id": "view-in-github",
        "colab_type": "text"
      },
      "source": [
        "<a href=\"https://colab.research.google.com/github/alaekwebartholomew/DataStructure/blob/main/DoublyLinkedList/DoublyLinkedList.ipynb\" target=\"_parent\"><img src=\"https://colab.research.google.com/assets/colab-badge.svg\" alt=\"Open In Colab\"/></a>"
      ]
    },
    {
      "cell_type": "code",
      "execution_count": 1,
      "metadata": {
        "id": "Z2uAk3YLmr9Y"
      },
      "outputs": [],
      "source": [
        "class Node:\n",
        "  def __init__(self, prev, data, next):\n",
        "    self.prev = None\n",
        "    self.data = data\n",
        "    self.next = None"
      ]
    },
    {
      "cell_type": "code",
      "source": [
        "class DoublyLinkedList:\n",
        "  def __init__(self):\n",
        "    self.head = None\n",
        "    self.tail = None\n",
        "  \n",
        "  def print_forward(self):\n",
        "    if self.head == None:\n",
        "      print(\"The storage is empty\")\n",
        "      return\n",
        "    itr = self.head\n",
        "    stored_data = \"\"\n",
        "    while itr:\n",
        "      stored_data += str(itr.data) + \"-->\"\n",
        "      itr = itr.next\n",
        "    print(stored_data)\n",
        "\n",
        "  def print_backward(self):\n",
        "    if self.tail == None:\n",
        "      print(\"The storage is empty\")\n",
        "      return\n",
        "    itr = self.tail\n",
        "    stored_data = \"\"\n",
        "    while itr:\n",
        "      stored_data += str(itr.data) + \"-->\"\n",
        "      itr = itr.prev\n",
        "    print(stored_data)\n",
        "\n",
        "  def length(self):\n",
        "    if self.head == None:\n",
        "      return\n",
        "    itr = self.head\n",
        "    count = 0\n",
        "    while itr:\n",
        "      count += 1\n",
        "      itr = itr.next\n",
        "    return count\n",
        "\n",
        "  def add_at_beginning(self, data):\n",
        "    new_node = Node(None, data, None)\n",
        "    if self.head == None:\n",
        "      self.head = new_node\n",
        "      self.tail = new_node\n",
        "      return\n",
        "    new_node.next = self.head\n",
        "    self.head.prev = new_node\n",
        "    self.head = new_node\n",
        "    return\n",
        "\n",
        "  def add_at_end(self, data):\n",
        "    new_node = Node(None, data, None)\n",
        "    if self.tail == None:\n",
        "      self.tail = new_node\n",
        "      self.head = new_node\n",
        "      return\n",
        "    new_node.prev = self.tail\n",
        "    self.tail.next = new_node\n",
        "    self.tail = new_node\n",
        "    return\n",
        "\n",
        "\n",
        "  def add_at(self, index, data):\n",
        "    if self.length() < index < 0:\n",
        "      print(\"IndexOutOfRange\")\n",
        "      return\n",
        "    if index == 0:\n",
        "      self.add_at_beginning(data)\n",
        "      return\n",
        "    if index == self.length():\n",
        "      self.add_at_end(data)\n",
        "      return\n",
        "\n",
        "    new_node = Node(None, data, None)\n",
        "    count = 1\n",
        "    itr = self.head\n",
        "    while itr:\n",
        "      if count == index:\n",
        "        new_node.prev = itr\n",
        "        new_node.next = itr.next\n",
        "        itr.next.prev = new_node\n",
        "        itr.next = new_node\n",
        "      itr = itr.next\n",
        "      count += 1\n",
        "\n",
        "  def remove_from_beginning(self):\n",
        "    pass\n",
        "\n",
        "  def remove_from_end(self):\n",
        "    pass\n",
        "\n",
        "  def remove_data(self, data):\n",
        "    pass"
      ],
      "metadata": {
        "id": "VpqDOuSMnIP3"
      },
      "execution_count": 34,
      "outputs": []
    },
    {
      "cell_type": "code",
      "source": [
        "dll = DoublyLinkedList()\n",
        "dll.add_at_beginning(78)\n",
        "dll.add_at_beginning(72)\n",
        "dll.add_at_beginning(\"Coding\")\n",
        "dll.add_at_end(\"Reading\")\n",
        "dll.add_at_end(\"Writing\")\n",
        "dll.add_at(1, \"Awesome\")\n",
        "dll.add_at(6, \"Great\")\n",
        "dll.add_at(0, \"Nice\")\n",
        "dll.print_forward()\n",
        "dll.print_backward()\n",
        "print(dll.length())"
      ],
      "metadata": {
        "id": "Xzhc_C2GnY2x",
        "colab": {
          "base_uri": "https://localhost:8080/"
        },
        "outputId": "9c1e320e-0294-406d-97cb-5a0395a5b272"
      },
      "execution_count": 36,
      "outputs": [
        {
          "output_type": "stream",
          "name": "stdout",
          "text": [
            "Nice-->Coding-->Awesome-->72-->78-->Reading-->Writing-->Great-->\n",
            "Great-->Writing-->Reading-->78-->72-->Awesome-->Coding-->Nice-->\n",
            "8\n"
          ]
        }
      ]
    }
  ]
}