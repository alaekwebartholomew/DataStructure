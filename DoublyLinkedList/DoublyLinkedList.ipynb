{
  "nbformat": 4,
  "nbformat_minor": 0,
  "metadata": {
    "colab": {
      "provenance": [],
      "authorship_tag": "ABX9TyNtVtNwTrPgz0G3eVvVGYyx",
      "include_colab_link": true
    },
    "kernelspec": {
      "name": "python3",
      "display_name": "Python 3"
    },
    "language_info": {
      "name": "python"
    }
  },
  "cells": [
    {
      "cell_type": "markdown",
      "metadata": {
        "id": "view-in-github",
        "colab_type": "text"
      },
      "source": [
        "<a href=\"https://colab.research.google.com/github/alaekwebartholomew/DataStructure/blob/main/DoublyLinkedList/DoublyLinkedList.ipynb\" target=\"_parent\"><img src=\"https://colab.research.google.com/assets/colab-badge.svg\" alt=\"Open In Colab\"/></a>"
      ]
    },
    {
      "cell_type": "code",
      "execution_count": 1,
      "metadata": {
        "id": "Z2uAk3YLmr9Y"
      },
      "outputs": [],
      "source": [
        "class Node:\n",
        "  def __init__(self, prev, data, next):\n",
        "    self.prev = None\n",
        "    self.data = data\n",
        "    self.next = None"
      ]
    },
    {
      "cell_type": "code",
      "source": [
        "class DoublyLinkedList:\n",
        "  def __init__(self):\n",
        "    self.head = None\n",
        "    self.tail = None\n",
        "  \n",
        "  def print_forward(self):\n",
        "    if self.head == None:\n",
        "      print(\"The storage is empty\")\n",
        "      return\n",
        "    itr = self.head\n",
        "    stored_data = \"\"\n",
        "    while itr:\n",
        "      stored_data += str(itr.data) + \"-->\"\n",
        "      itr = itr.next\n",
        "    print(stored_data)\n",
        "\n",
        "  def print_backward(self):\n",
        "    pass\n",
        "\n",
        "  def length(self):\n",
        "    pass\n",
        "\n",
        "  def add_at_begining(self, data):\n",
        "    new_node = Node(None, data, None)\n",
        "    if self.head == None:\n",
        "      self.head = new_node\n",
        "      self.tail = new_node\n",
        "      return\n",
        "    new_node.next = self.head\n",
        "    self.head.prev = new_node\n",
        "    self.head = new_node\n",
        "    return\n",
        "\n",
        "  def add_at_end(self, data):\n",
        "    pass\n",
        "\n",
        "  def add_at(self, index, data):\n",
        "    pass\n",
        "\n",
        "  def remove_from_begining(self):\n",
        "    pass\n",
        "\n",
        "  def remove_from_end(self):\n",
        "    pass\n",
        "\n",
        "  def remove_data(self, data):\n",
        "    pass"
      ],
      "metadata": {
        "id": "VpqDOuSMnIP3"
      },
      "execution_count": 3,
      "outputs": []
    },
    {
      "cell_type": "code",
      "source": [
        "dll = DoublyLinkedList()\n",
        "dll.add_at_begining(78)\n",
        "dll.add_at_begining(72)\n",
        "dll.add_at_begining(\"Coding\")\n",
        "dll.print_forward()"
      ],
      "metadata": {
        "id": "Xzhc_C2GnY2x",
        "colab": {
          "base_uri": "https://localhost:8080/"
        },
        "outputId": "1e5bc2c0-9c40-484a-d918-4de38ddb0c25"
      },
      "execution_count": 7,
      "outputs": [
        {
          "output_type": "stream",
          "name": "stdout",
          "text": [
            "Coding-->72-->78-->\n"
          ]
        }
      ]
    }
  ]
}