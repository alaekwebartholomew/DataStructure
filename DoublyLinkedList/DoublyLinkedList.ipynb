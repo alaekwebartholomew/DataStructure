{
  "nbformat": 4,
  "nbformat_minor": 0,
  "metadata": {
    "colab": {
      "provenance": [],
      "authorship_tag": "ABX9TyOS6nkMqXDxpUpUEDl6aieE",
      "include_colab_link": true
    },
    "kernelspec": {
      "name": "python3",
      "display_name": "Python 3"
    },
    "language_info": {
      "name": "python"
    }
  },
  "cells": [
    {
      "cell_type": "markdown",
      "metadata": {
        "id": "view-in-github",
        "colab_type": "text"
      },
      "source": [
        "<a href=\"https://colab.research.google.com/github/alaekwebartholomew/DataStructure/blob/main/DoublyLinkedList/DoublyLinkedList.ipynb\" target=\"_parent\"><img src=\"https://colab.research.google.com/assets/colab-badge.svg\" alt=\"Open In Colab\"/></a>"
      ]
    },
    {
      "cell_type": "code",
      "execution_count": 1,
      "metadata": {
        "id": "Z2uAk3YLmr9Y"
      },
      "outputs": [],
      "source": [
        "class Node:\n",
        "  def __init__(self, prev, data, next):\n",
        "    self.prev = None\n",
        "    self.data = data\n",
        "    self.next = None"
      ]
    },
    {
      "cell_type": "code",
      "source": [
        "class DoublyLinkedList:\n",
        "  def __init__(self):\n",
        "    self.head = None\n",
        "  "
      ],
      "metadata": {
        "id": "VpqDOuSMnIP3"
      },
      "execution_count": 2,
      "outputs": []
    },
    {
      "cell_type": "code",
      "source": [
        "dll = DoublyLinkedList()"
      ],
      "metadata": {
        "id": "Xzhc_C2GnY2x"
      },
      "execution_count": 3,
      "outputs": []
    }
  ]
}