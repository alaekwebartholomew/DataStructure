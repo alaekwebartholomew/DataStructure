{
  "nbformat": 4,
  "nbformat_minor": 0,
  "metadata": {
    "colab": {
      "provenance": [],
      "authorship_tag": "ABX9TyNTGN+p0c5Q8qnXy4qG3zJq",
      "include_colab_link": true
    },
    "kernelspec": {
      "name": "python3",
      "display_name": "Python 3"
    },
    "language_info": {
      "name": "python"
    }
  },
  "cells": [
    {
      "cell_type": "markdown",
      "metadata": {
        "id": "view-in-github",
        "colab_type": "text"
      },
      "source": [
        "<a href=\"https://colab.research.google.com/github/alaekwebartholomew/DataStructure/blob/main/SinglyLinkedList/SinglyLinkedList.ipynb\" target=\"_parent\"><img src=\"https://colab.research.google.com/assets/colab-badge.svg\" alt=\"Open In Colab\"/></a>"
      ]
    },
    {
      "cell_type": "code",
      "execution_count": 19,
      "metadata": {
        "id": "hHneKqPeszi7"
      },
      "outputs": [],
      "source": [
        "class Node:\n",
        "  def __init__(self, data, next):\n",
        "    self.data = data\n",
        "    self.next = None"
      ]
    },
    {
      "cell_type": "code",
      "source": [
        "class SinglyLinkedList:\n",
        "  def __init__(self):\n",
        "    self.head = None\n",
        "    self.count = 0\n",
        "\n",
        "  def Length(self):\n",
        "    return self.count\n",
        "\n",
        "  def print(self):\n",
        "    if self.head == None:\n",
        "      print(\"the list is empty\")\n",
        "      return\n",
        "    itr = self.head\n",
        "    llist = \"\"\n",
        "    while itr:\n",
        "      llist += str(itr.data) + \"-->\"\n",
        "      itr = itr.next\n",
        "    print(llist)\n",
        "    \n",
        "  def add_first(self, data):\n",
        "    new_node = Node(data, next)\n",
        "    if self.head == None:\n",
        "      self.head = new_node\n",
        "      return\n",
        "    new_node.next = self.head\n",
        "    self.head = new_node\n",
        "\n",
        "\n",
        "  def add_last(self, data):\n",
        "    pass\n",
        "\n",
        "  def remove_first(self):\n",
        "    pass\n",
        "\n",
        "  def remove_last(self):\n",
        "    pass\n",
        "\n",
        "  def add_anywhere(self, data, index):\n",
        "    pass\n",
        "\n",
        "  def remove_anywhere(self):\n",
        "    pass"
      ],
      "metadata": {
        "id": "54kxv69Ut9sZ"
      },
      "execution_count": 20,
      "outputs": []
    },
    {
      "cell_type": "code",
      "source": [
        "sll = SinglyLinkedList()\n",
        "sll.add_first(73)\n",
        "sll.add_first(77)\n",
        "sll.print()"
      ],
      "metadata": {
        "id": "__ZyKu5Bv-UW",
        "colab": {
          "base_uri": "https://localhost:8080/"
        },
        "outputId": "b221100d-b1ee-4b38-c134-1063faac1030"
      },
      "execution_count": 22,
      "outputs": [
        {
          "output_type": "stream",
          "name": "stdout",
          "text": [
            "77-->73-->\n"
          ]
        }
      ]
    }
  ]
}