{
  "nbformat": 4,
  "nbformat_minor": 0,
  "metadata": {
    "colab": {
      "provenance": [],
      "authorship_tag": "ABX9TyNY3tWPGGyWTj5Ugm92LWG8",
      "include_colab_link": true
    },
    "kernelspec": {
      "name": "python3",
      "display_name": "Python 3"
    },
    "language_info": {
      "name": "python"
    }
  },
  "cells": [
    {
      "cell_type": "markdown",
      "metadata": {
        "id": "view-in-github",
        "colab_type": "text"
      },
      "source": [
        "<a href=\"https://colab.research.google.com/github/alaekwebartholomew/DataStructure/blob/main/SinglyLinkedList/SinglyLinkedList.ipynb\" target=\"_parent\"><img src=\"https://colab.research.google.com/assets/colab-badge.svg\" alt=\"Open In Colab\"/></a>"
      ]
    },
    {
      "cell_type": "code",
      "execution_count": 1,
      "metadata": {
        "id": "hHneKqPeszi7"
      },
      "outputs": [],
      "source": [
        "class Node:\n",
        "  def __init__(self):\n",
        "    self.data = None\n",
        "    self.next = None"
      ]
    },
    {
      "cell_type": "code",
      "source": [
        "class SinglyLinkedList:\n",
        "  def __init__(self):\n",
        "    self.head = None\n",
        "\n",
        "  def Length(self):\n",
        "    pass\n",
        "\n",
        "  def print(self):\n",
        "    pass\n",
        "    \n",
        "  def add_first(self, data):\n",
        "    pass\n",
        "\n",
        "  def add_last(self, data):\n",
        "    pass\n",
        "\n",
        "  def remove_first(self):\n",
        "    pass\n",
        "\n",
        "  def remove_last(self):\n",
        "    pass\n",
        "\n",
        "  def add_anywhere(self, data, index):\n",
        "    pass\n",
        "\n",
        "  def remove_anywhere(self):\n",
        "    pass"
      ],
      "metadata": {
        "id": "54kxv69Ut9sZ"
      },
      "execution_count": 2,
      "outputs": []
    },
    {
      "cell_type": "code",
      "source": [
        "sll = SinglyLinkedList()"
      ],
      "metadata": {
        "id": "__ZyKu5Bv-UW"
      },
      "execution_count": 3,
      "outputs": []
    }
  ]
}