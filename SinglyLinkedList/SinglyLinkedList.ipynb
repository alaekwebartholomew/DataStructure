{
  "nbformat": 4,
  "nbformat_minor": 0,
  "metadata": {
    "colab": {
      "provenance": [],
      "authorship_tag": "ABX9TyO4yvFzMxW7yGIpdkmb5XMx",
      "include_colab_link": true
    },
    "kernelspec": {
      "name": "python3",
      "display_name": "Python 3"
    },
    "language_info": {
      "name": "python"
    }
  },
  "cells": [
    {
      "cell_type": "markdown",
      "metadata": {
        "id": "view-in-github",
        "colab_type": "text"
      },
      "source": [
        "<a href=\"https://colab.research.google.com/github/alaekwebartholomew/DataStructure/blob/main/SinglyLinkedList/SinglyLinkedList.ipynb\" target=\"_parent\"><img src=\"https://colab.research.google.com/assets/colab-badge.svg\" alt=\"Open In Colab\"/></a>"
      ]
    },
    {
      "cell_type": "code",
      "execution_count": 19,
      "metadata": {
        "id": "hHneKqPeszi7"
      },
      "outputs": [],
      "source": [
        "class Node:\n",
        "  def __init__(self, data, next):\n",
        "    self.data = data\n",
        "    self.next = None"
      ]
    },
    {
      "cell_type": "code",
      "source": [
        "class SinglyLinkedList:\n",
        "  def __init__(self):\n",
        "    self.head = None\n",
        "\n",
        "  def length(self):\n",
        "    if self.head == None:\n",
        "      return 0\n",
        "    count = 0\n",
        "    itr = self.head\n",
        "    while itr:\n",
        "      count += 1\n",
        "      itr = itr.next\n",
        "    return count\n",
        "\n",
        "  def print(self):\n",
        "    if self.head == None:\n",
        "      print(\"the list is empty\")\n",
        "      return\n",
        "    itr = self.head\n",
        "    llist = \"\"\n",
        "    while itr:\n",
        "      llist += str(itr.data) + \"-->\"\n",
        "      itr = itr.next\n",
        "    print(llist)\n",
        "    \n",
        "  def add_first(self, data):\n",
        "    new_node = Node(data, next)\n",
        "    if self.head == None:\n",
        "      self.head = new_node\n",
        "      return\n",
        "    new_node.next = self.head\n",
        "    self.head = new_node\n",
        "\n",
        "\n",
        "  def add_last(self, data):\n",
        "    if self.head == None:\n",
        "      self.add_first(data)\n",
        "      return\n",
        "    new_node = Node(data, next)\n",
        "    \n",
        "    itr = self.head\n",
        "    while itr:\n",
        "      if itr.next == None:\n",
        "        itr.next = new_node\n",
        "        return\n",
        "      itr = itr.next\n",
        "    return\n",
        "  def remove_first(self):\n",
        "    if self.head == None:\n",
        "      print(\"The list is empty\")\n",
        "      return\n",
        "    self.head = self.head.next\n",
        "    return\n",
        "\n",
        "  def remove_last(self):\n",
        "    if self.head == None:\n",
        "      print(\"The list is empty\")\n",
        "      return\n",
        "    itr = self.head\n",
        "    while itr:\n",
        "      if itr.next.next == None:\n",
        "        itr.next = None\n",
        "        return\n",
        "      itr = itr.next\n",
        "\n",
        "  def add_anywhere(self, data, index):\n",
        "    if self.length() < index < 0:\n",
        "      print(\"Index out of range\")\n",
        "      return\n",
        "    if index == 0:\n",
        "      self.add_first(data)\n",
        "      return\n",
        "\n",
        "    itr = self.head\n",
        "    count = 0\n",
        "    while count < index:\n",
        "      if count == (index - 1):\n",
        "        new_node = Node(data, next)\n",
        "        new_node.next = itr.next\n",
        "        itr.next = new_node\n",
        "        return\n",
        "      itr = itr.next\n",
        "      count += 1\n",
        "\n",
        "  def remove_data(self, data):\n",
        "    if self.head == None:\n",
        "      print(\"The list is empty\")\n",
        "      return\n",
        "    if self.head.data == data:\n",
        "      self.remove_first()\n",
        "      return\n",
        "    itr = self.head\n",
        "    while itr:\n",
        "      if itr.next.data == data:\n",
        "        itr.next = itr.next.next\n",
        "        return\n",
        "      itr = itr.next"
      ],
      "metadata": {
        "id": "54kxv69Ut9sZ"
      },
      "execution_count": 102,
      "outputs": []
    },
    {
      "cell_type": "code",
      "source": [
        "sll = SinglyLinkedList()\n",
        "sll.add_first(96)\n",
        "sll.add_first(77)\n",
        "sll.add_last(71)\n",
        "sll.add_last(82)\n",
        "sll.remove_first()\n",
        "sll.remove_last()\n",
        "sll.add_anywhere(76, 0)\n",
        "sll.add_anywhere(88, 3)\n",
        "sll.add_last(90)\n",
        "sll.add_anywhere(70, 4)\n",
        "sll.add_last(73)\n",
        "sll.add_first(94)\n",
        "sll.remove_data(73)\n",
        "sll.print()\n",
        "print(sll.length())"
      ],
      "metadata": {
        "id": "__ZyKu5Bv-UW",
        "colab": {
          "base_uri": "https://localhost:8080/"
        },
        "outputId": "d2b5e191-0358-4800-99d9-1d903be828e1"
      },
      "execution_count": 107,
      "outputs": [
        {
          "output_type": "stream",
          "name": "stdout",
          "text": [
            "94-->76-->96-->71-->88-->70-->90-->\n",
            "7\n"
          ]
        }
      ]
    }
  ]
}