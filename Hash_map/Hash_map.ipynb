{
  "cells": [
    {
      "cell_type": "markdown",
      "metadata": {
        "id": "view-in-github",
        "colab_type": "text"
      },
      "source": [
        "<a href=\"https://colab.research.google.com/github/alaekwebartholomew/DataStructure/blob/main/Hash_map/Hash_map.ipynb\" target=\"_parent\"><img src=\"https://colab.research.google.com/assets/colab-badge.svg\" alt=\"Open In Colab\"/></a>"
      ]
    },
    {
      "cell_type": "code",
      "execution_count": 11,
      "metadata": {
        "id": "Yjh97E4jOn6t"
      },
      "outputs": [],
      "source": [
        "class HashMap:\n",
        "  def __init__(self):\n",
        "    self.Max_size = 100\n",
        "    self.storage = [[] for _ in range(self.Max_size)]\n",
        "\n",
        "  def hash(self, key):\n",
        "    k = 0\n",
        "    for char in key:\n",
        "      uni_code = ord(char)\n",
        "      k += uni_code % self.Max_size\n",
        "    return k\n",
        "\n",
        "  def __setItem__(self, key, value):\n",
        "    pass\n",
        "\n",
        "  def __getItem__(self, key):\n",
        "    pass\n",
        "\n",
        "  def __delItem__(self, key):\n",
        "    pass"
      ]
    },
    {
      "cell_type": "code",
      "source": [
        "hm = HashMap()\n",
        "print(hm.hash('disk'))"
      ],
      "metadata": {
        "id": "GMY91TT-RlrN",
        "colab": {
          "base_uri": "https://localhost:8080/"
        },
        "outputId": "a14fda58-0cb0-4e7f-ccba-26c3f57fd00d"
      },
      "execution_count": 12,
      "outputs": [
        {
          "output_type": "stream",
          "name": "stdout",
          "text": [
            "27\n"
          ]
        }
      ]
    }
  ],
  "metadata": {
    "colab": {
      "provenance": [],
      "authorship_tag": "ABX9TyNlJI8m5Iwps/mpfThsr+7B",
      "include_colab_link": true
    },
    "kernelspec": {
      "display_name": "Python 3",
      "name": "python3"
    },
    "language_info": {
      "name": "python"
    }
  },
  "nbformat": 4,
  "nbformat_minor": 0
}