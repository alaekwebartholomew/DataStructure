{
  "cells": [
    {
      "cell_type": "markdown",
      "metadata": {
        "id": "view-in-github",
        "colab_type": "text"
      },
      "source": [
        "<a href=\"https://colab.research.google.com/github/alaekwebartholomew/DataStructure/blob/main/Hash_map/Hash_map.ipynb\" target=\"_parent\"><img src=\"https://colab.research.google.com/assets/colab-badge.svg\" alt=\"Open In Colab\"/></a>"
      ]
    },
    {
      "cell_type": "code",
      "execution_count": 40,
      "metadata": {
        "id": "Yjh97E4jOn6t"
      },
      "outputs": [],
      "source": [
        "class HashMap:\n",
        "  def __init__(self):\n",
        "    self.Max_size = 10\n",
        "    self.data_base = [[] for _ in range(self.Max_size)]\n",
        "\n",
        "  def hash(self, key):\n",
        "    k = 0\n",
        "    for char in key:\n",
        "      k += ord(char)\n",
        "    return k % self.Max_size\n",
        "\n",
        "  def __setitem__(self, key, value):\n",
        "    hash_key = self.hash(key)\n",
        "    self.data_base[hash_key].append((hash_key, value))\n",
        "\n",
        "  def __getitem__(self, key):\n",
        "    hash_key = self.hash(key)\n",
        "    for tup in self.data_base[hash_key]:\n",
        "      if tup[0] == hash_key:\n",
        "        return tup[1]\n",
        "      else:\n",
        "        return None\n",
        "\n",
        "  def __deiItem__(self, key):\n",
        "    pass"
      ]
    },
    {
      "cell_type": "code",
      "execution_count": 42,
      "metadata": {
        "colab": {
          "base_uri": "https://localhost:8080/"
        },
        "id": "GMY91TT-RlrN",
        "outputId": "14a7647c-810a-4a84-f25d-58a4ad3c4473"
      },
      "outputs": [
        {
          "output_type": "stream",
          "name": "stdout",
          "text": [
            "Python\n",
            "None\n"
          ]
        },
        {
          "output_type": "execute_result",
          "data": {
            "text/plain": [
              "[[], [], [], [], [(4, 'Rice')], [], [], [(7, '4mb')], [(8, 'Python')], []]"
            ]
          },
          "metadata": {},
          "execution_count": 42
        }
      ],
      "source": [
        "hm = HashMap()\n",
        "hm['lang'] = 'Python'\n",
        "hm['disk'] = '4mb'\n",
        "hm['foo'] = 'Rice'\n",
        "print(hm['lang'])\n",
        "print(hm['d'])\n",
        "hm.data_base"
      ]
    },
    {
      "cell_type": "code",
      "source": [],
      "metadata": {
        "id": "Ri4XfxGn3knk"
      },
      "execution_count": null,
      "outputs": []
    },
    {
      "cell_type": "code",
      "source": [],
      "metadata": {
        "id": "kU0T4YQ13k_S"
      },
      "execution_count": null,
      "outputs": []
    }
  ],
  "metadata": {
    "colab": {
      "provenance": [],
      "authorship_tag": "ABX9TyMNlnM6Wa3dixOCSLL7Wju9",
      "include_colab_link": true
    },
    "kernelspec": {
      "display_name": "Python 3",
      "name": "python3"
    },
    "language_info": {
      "name": "python"
    }
  },
  "nbformat": 4,
  "nbformat_minor": 0
}