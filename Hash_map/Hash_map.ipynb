{
  "cells": [
    {
      "cell_type": "markdown",
      "metadata": {
        "id": "view-in-github",
        "colab_type": "text"
      },
      "source": [
        "<a href=\"https://colab.research.google.com/github/alaekwebartholomew/DataStructure/blob/main/Hash_map/Hash_map.ipynb\" target=\"_parent\"><img src=\"https://colab.research.google.com/assets/colab-badge.svg\" alt=\"Open In Colab\"/></a>"
      ]
    },
    {
      "cell_type": "code",
      "execution_count": 64,
      "metadata": {
        "id": "Yjh97E4jOn6t"
      },
      "outputs": [],
      "source": [
        "class HashMap:\n",
        "  def __init__(self):\n",
        "    self.Max_size = 5\n",
        "    self.data_base = [[] for _ in range(self.Max_size)]\n",
        "\n",
        "  def hash(self, key):\n",
        "    k = 0\n",
        "    for char in key:\n",
        "      k += ord(char)\n",
        "      return k % self.Max_size\n",
        "\n",
        "  def __setitem__(self, key, value):\n",
        "    hash_key = self.hash(key)\n",
        "    self.data_base[hash_key].append((hash_key, value))\n",
        "\n",
        "  def __getitem__(self, key):\n",
        "    pass\n",
        "\n",
        "  def __deiItem__(self, key):\n",
        "    pass"
      ]
    },
    {
      "cell_type": "code",
      "execution_count": 65,
      "metadata": {
        "colab": {
          "base_uri": "https://localhost:8080/"
        },
        "id": "GMY91TT-RlrN",
        "outputId": "bb24b26d-b065-46b0-b866-4a0673d3284c"
      },
      "outputs": [
        {
          "output_type": "execute_result",
          "data": {
            "text/plain": [
              "[[], [], [], [(3, 'Python')], []]"
            ]
          },
          "metadata": {},
          "execution_count": 65
        }
      ],
      "source": [
        "hm = HashMap()\n",
        "hm['lang'] = 'Python'\n",
        "hm.data_base"
      ]
    },
    {
      "cell_type": "code",
      "source": [],
      "metadata": {
        "id": "Ri4XfxGn3knk"
      },
      "execution_count": null,
      "outputs": []
    },
    {
      "cell_type": "code",
      "source": [],
      "metadata": {
        "id": "kU0T4YQ13k_S"
      },
      "execution_count": null,
      "outputs": []
    }
  ],
  "metadata": {
    "colab": {
      "provenance": [],
      "authorship_tag": "ABX9TyNLoDa2CB/61PT/938xQNrl",
      "include_colab_link": true
    },
    "kernelspec": {
      "display_name": "Python 3",
      "name": "python3"
    },
    "language_info": {
      "name": "python"
    }
  },
  "nbformat": 4,
  "nbformat_minor": 0
}