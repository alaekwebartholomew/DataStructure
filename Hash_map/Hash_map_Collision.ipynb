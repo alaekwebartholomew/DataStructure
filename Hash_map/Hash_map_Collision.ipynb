{
  "nbformat": 4,
  "nbformat_minor": 0,
  "metadata": {
    "colab": {
      "provenance": [],
      "authorship_tag": "ABX9TyPkR4lsFZgrOGDVf1fd5Jmt",
      "include_colab_link": true
    },
    "kernelspec": {
      "name": "python3",
      "display_name": "Python 3"
    },
    "language_info": {
      "name": "python"
    }
  },
  "cells": [
    {
      "cell_type": "markdown",
      "metadata": {
        "id": "view-in-github",
        "colab_type": "text"
      },
      "source": [
        "<a href=\"https://colab.research.google.com/github/alaekwebartholomew/DataStructure/blob/main/Hash_map/Hash_map_Collision.ipynb\" target=\"_parent\"><img src=\"https://colab.research.google.com/assets/colab-badge.svg\" alt=\"Open In Colab\"/></a>"
      ]
    },
    {
      "cell_type": "code",
      "execution_count": 4,
      "metadata": {
        "id": "F7-9fQN0zURu"
      },
      "outputs": [],
      "source": [
        "class HashMapCollision:\n",
        "\n",
        "  def __init__(self):\n",
        "    self.max_size = 10\n",
        "    self.data_base = []\n",
        "\n",
        "  def hash(self, key):\n",
        "    hash_code = 0\n",
        "    for char in key:\n",
        "      hash_code += ord(char)\n",
        "    return hash_code % self.max_size\n",
        "\n",
        "  def __setitem__(self, key, value):\n",
        "    pass\n",
        "\n",
        "  def __getitem__(self, key):\n",
        "    pass\n",
        "\n",
        "  def __delitem__(self, key):\n",
        "    pass"
      ]
    },
    {
      "cell_type": "code",
      "source": [
        "hmc = HashMapCollision()"
      ],
      "metadata": {
        "id": "nC8vbH9u6Tb4"
      },
      "execution_count": 6,
      "outputs": []
    }
  ]
}