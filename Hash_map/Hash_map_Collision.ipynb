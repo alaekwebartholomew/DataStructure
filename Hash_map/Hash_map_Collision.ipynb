{
  "nbformat": 4,
  "nbformat_minor": 0,
  "metadata": {
    "colab": {
      "provenance": [],
      "authorship_tag": "ABX9TyPOM0RNJooyn7QdE0n5jyjy",
      "include_colab_link": true
    },
    "kernelspec": {
      "name": "python3",
      "display_name": "Python 3"
    },
    "language_info": {
      "name": "python"
    }
  },
  "cells": [
    {
      "cell_type": "markdown",
      "metadata": {
        "id": "view-in-github",
        "colab_type": "text"
      },
      "source": [
        "<a href=\"https://colab.research.google.com/github/alaekwebartholomew/DataStructure/blob/main/Hash_map/Hash_map_Collision.ipynb\" target=\"_parent\"><img src=\"https://colab.research.google.com/assets/colab-badge.svg\" alt=\"Open In Colab\"/></a>"
      ]
    },
    {
      "cell_type": "code",
      "execution_count": null,
      "metadata": {
        "id": "F7-9fQN0zURu"
      },
      "outputs": [],
      "source": [
        "class HashMapCollision:\n",
        "\n",
        "  def __init__(self):\n",
        "    self.max_size = 100\n",
        "    self.data_base = []\n",
        "\n",
        "  def hash(self, key):\n",
        "    pass\n",
        "\n",
        "  def __setitem__(self, key, value):\n",
        "    pass\n",
        "\n",
        "  def __getitem__(self, key):\n",
        "    pass\n",
        "\n",
        "  def __delitem__(self, key):\n",
        "    pass"
      ]
    }
  ]
}