{
  "cells": [
    {
      "cell_type": "markdown",
      "metadata": {
        "id": "view-in-github",
        "colab_type": "text"
      },
      "source": [
        "<a href=\"https://colab.research.google.com/github/alaekwebartholomew/DataStructure/blob/main/Hash_map/Hash_map_linear_probing.ipynb\" target=\"_parent\"><img src=\"https://colab.research.google.com/assets/colab-badge.svg\" alt=\"Open In Colab\"/></a>"
      ]
    },
    {
      "cell_type": "code",
      "execution_count": 19,
      "metadata": {
        "id": "Yjh97E4jOn6t"
      },
      "outputs": [],
      "source": [
        "class HashMap:\n",
        "  def __init__(self):\n",
        "    self.Max_size = 10\n",
        "    self.data_base = [[] for _ in range(self.Max_size)]\n",
        "\n",
        "  def hash(self, key):\n",
        "    k = 0\n",
        "    for char in key:\n",
        "      k += ord(char)\n",
        "    return k % self.Max_size\n",
        "\n",
        "  def __setitem__(self, key, value):\n",
        "    hash_code = self.hash(key)\n",
        "    if len(self.data_base[hash_code]) == 0:\n",
        "        self.data_base[hash_code].append((key, value))\n",
        "        return\n",
        "    count = self.Max_size\n",
        "    while len(self.data_base[hash_code]) != 0:\n",
        "        hash_code = (hash_code + 1) % 10\n",
        "        count -= 1\n",
        "        if count == 0:\n",
        "            raise Exception(\"DataBaseNotEmptyException\")\n",
        "    self.data_base[hash_code] = (key, value)\n",
        "\n",
        "  def __getitem__(self, key):\n",
        "    for val in self.data_base:\n",
        "      if len(val) == 1 and val[0][0] == key:\n",
        "        return val[0][1]\n",
        "\n",
        "  def __delitem__(self, key):\n",
        "    hash_code = self.hash(key)\n",
        "    for val in self.data_base:\n",
        "      if len(val) == 1 and val[0][0] == key:\n",
        "        self.data_base[hash_code] = []\n",
        "    return"
      ]
    },
    {
      "cell_type": "code",
      "execution_count": 20,
      "metadata": {
        "colab": {
          "base_uri": "https://localhost:8080/"
        },
        "id": "GMY91TT-RlrN",
        "outputId": "ca50a4b4-26da-46b8-f639-7cc1d9344cb1"
      },
      "outputs": [
        {
          "output_type": "stream",
          "name": "stdout",
          "text": [
            "Code\n",
            "[[], [], [], [], [], [], [], [], [('lang', 'Python')], []]\n"
          ]
        }
      ],
      "source": [
        "hm = HashMap()\n",
        "hm[\"lang\"] = \"Python\"\n",
        "hm[\"foo\"] = \"Code\"\n",
        "print(hm[\"foo\"])\n",
        "del hm[\"foo\"]\n",
        "print(hm.data_base)"
      ]
    }
  ],
  "metadata": {
    "colab": {
      "provenance": [],
      "authorship_tag": "ABX9TyMcCQLNl4QKaOyNpwz55s/S",
      "include_colab_link": true
    },
    "kernelspec": {
      "display_name": "Python 3",
      "name": "python3"
    },
    "language_info": {
      "name": "python"
    }
  },
  "nbformat": 4,
  "nbformat_minor": 0
}