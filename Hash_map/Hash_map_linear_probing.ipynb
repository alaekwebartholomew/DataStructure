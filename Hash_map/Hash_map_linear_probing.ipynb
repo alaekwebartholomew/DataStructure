{
  "cells": [
    {
      "cell_type": "markdown",
      "metadata": {
        "id": "view-in-github",
        "colab_type": "text"
      },
      "source": [
        "<a href=\"https://colab.research.google.com/github/alaekwebartholomew/DataStructure/blob/main/Hash_map/Hash_map.ipynb\" target=\"_parent\"><img src=\"https://colab.research.google.com/assets/colab-badge.svg\" alt=\"Open In Colab\"/></a>"
      ]
    },
    {
      "cell_type": "code",
      "execution_count": 2,
      "metadata": {
        "id": "Yjh97E4jOn6t"
      },
      "outputs": [],
      "source": [
        "class HashMap:\n",
        "  def __init__(self):\n",
        "    self.Max_size = 10\n",
        "    self.data_base = [[] for _ in range(self.Max_size)]\n",
        "\n",
        "  def hash(self, key):\n",
        "    k = 0\n",
        "    for char in key:\n",
        "      k += ord(char)\n",
        "    return k % self.Max_size\n",
        "\n",
        "  def __setitem__(self, key, value):\n",
        "    hash_key = self.hash(key)\n",
        "    if len(self.data_base[hash_key]) > 1:\n",
        "      for tup in self.data_base[hash_key]:\n",
        "        if tup[0] == hash_key:\n",
        "          self.data_base[hash_key].append((key, value))\n",
        "          return\n",
        "        return\n",
        "    self.data_base[hash_key].append((key, value))\n",
        "\n",
        "  def __getitem__(self, key):\n",
        "    hash_key = self.hash(key)\n",
        "    for tup in self.data_base[hash_key]:\n",
        "      if tup[0] == hash_key:\n",
        "        return tup[1]\n",
        "      else:\n",
        "        return None\n",
        "\n",
        "  def __delitem__(self, key):\n",
        "    hash_key = self.hash(key)\n",
        "    for tup in self.data_base[hash_key]:\n",
        "      if tup[0] == hash_key:\n",
        "        self.data_base[hash_key] = []\n",
        "        print(\"deleted\")\n",
        "        return\n",
        "    print(\"Not Found\")"
      ]
    },
    {
      "cell_type": "code",
      "execution_count": 4,
      "metadata": {
        "colab": {
          "base_uri": "https://localhost:8080/"
        },
        "id": "GMY91TT-RlrN",
        "outputId": "2afdc15c-b961-4a95-fe3e-5e330c96115e"
      },
      "outputs": [
        {
          "output_type": "stream",
          "name": "stdout",
          "text": [
            "None\n",
            "None\n",
            "Not Found\n"
          ]
        },
        {
          "output_type": "execute_result",
          "data": {
            "text/plain": [
              "[[],\n",
              " [],\n",
              " [],\n",
              " [],\n",
              " [('foo', 'Rice')],\n",
              " [],\n",
              " [],\n",
              " [('disk', '4mb')],\n",
              " [('lang', 'Python')],\n",
              " []]"
            ]
          },
          "metadata": {},
          "execution_count": 4
        }
      ],
      "source": [
        "hm = HashMap()\n",
        "hm['lang'] = 'Python'\n",
        "hm['disk'] = '4mb'\n",
        "hm['foo'] = 'Rice'\n",
        "print(hm['lang'])\n",
        "print(hm['d'])\n",
        "del hm['foo']\n",
        "hm.data_base"
      ]
    }
  ],
  "metadata": {
    "colab": {
      "provenance": [],
      "authorship_tag": "ABX9TyP1d7Lt3KKYvqbyP+gs0pCO",
      "include_colab_link": true
    },
    "kernelspec": {
      "display_name": "Python 3",
      "name": "python3"
    },
    "language_info": {
      "name": "python"
    }
  },
  "nbformat": 4,
  "nbformat_minor": 0
}
