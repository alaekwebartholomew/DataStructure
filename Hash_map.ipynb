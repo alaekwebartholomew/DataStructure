{
  "cells": [
    {
      "cell_type": "markdown",
      "metadata": {
        "id": "view-in-github",
        "colab_type": "text"
      },
      "source": [
        "<a href=\"https://colab.research.google.com/github/alaekwebartholomew/DataStructure/blob/main/Hash_map.ipynb\" target=\"_parent\"><img src=\"https://colab.research.google.com/assets/colab-badge.svg\" alt=\"Open In Colab\"/></a>"
      ]
    },
    {
      "cell_type": "code",
      "execution_count": 1,
      "metadata": {
        "id": "Yjh97E4jOn6t"
      },
      "outputs": [],
      "source": [
        "class HashMap:\n",
        "  def __init__(self):\n",
        "    self.Max_size = 100\n",
        "    self.storage = [[] for _ in range(self.Max_size)]\n",
        "\n",
        "  def hash_map(key):\n",
        "    pass\n",
        "\n",
        "  def __setItem__(self, key, value):\n",
        "    pass\n",
        "\n",
        "  def __getItem__(self, key):\n",
        "    pass\n",
        "\n",
        "  def __delItem__(self, key):\n",
        "    pass"
      ]
    },
    {
      "cell_type": "code",
      "source": [
        "hm = HashMap()"
      ],
      "metadata": {
        "id": "GMY91TT-RlrN"
      },
      "execution_count": 2,
      "outputs": []
    }
  ],
  "metadata": {
    "colab": {
      "provenance": [],
      "authorship_tag": "ABX9TyPkQtkrPfj7sac3Pl7AoC6l",
      "include_colab_link": true
    },
    "kernelspec": {
      "display_name": "Python 3",
      "name": "python3"
    },
    "language_info": {
      "name": "python"
    }
  },
  "nbformat": 4,
  "nbformat_minor": 0
}