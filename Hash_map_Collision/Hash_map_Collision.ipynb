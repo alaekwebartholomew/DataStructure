{
  "nbformat": 4,
  "nbformat_minor": 0,
  "metadata": {
    "colab": {
      "provenance": [],
      "authorship_tag": "ABX9TyMcsSzJEPTXYl7qKwwLItfj",
      "include_colab_link": true
    },
    "kernelspec": {
      "name": "python3",
      "display_name": "Python 3"
    },
    "language_info": {
      "name": "python"
    }
  },
  "cells": [
    {
      "cell_type": "markdown",
      "metadata": {
        "id": "view-in-github",
        "colab_type": "text"
      },
      "source": [
        "<a href=\"https://colab.research.google.com/github/alaekwebartholomew/DataStructure/blob/main/Hash_map_Collision/Hash_map_Collision.ipynb\" target=\"_parent\"><img src=\"https://colab.research.google.com/assets/colab-badge.svg\" alt=\"Open In Colab\"/></a>"
      ]
    },
    {
      "cell_type": "code",
      "execution_count": 11,
      "metadata": {
        "id": "F7-9fQN0zURu"
      },
      "outputs": [],
      "source": [
        "class HashMapCollision:\n",
        "\n",
        "  def __init__(self):\n",
        "    self.max_size = 10\n",
        "    self.data_base = [[] for _ in range(self.max_size)]\n",
        "\n",
        "  def hash(self, key):\n",
        "    hash_code = 0\n",
        "    for char in key:\n",
        "      hash_code += ord(char)\n",
        "    return hash_code % self.max_size\n",
        "\n",
        "  def __setitem__(self, key, value):\n",
        "    hash_code = self.hash(key)\n",
        "    found = False\n",
        "    for index, element in enumerate(self.data_base[hash_code]):\n",
        "      if len(element) == 2 and element[0] == key:\n",
        "        self.data_base[hash_code][index] = (key, value)\n",
        "        found = True\n",
        "        break\n",
        "    if not found:\n",
        "        self.data_base[hash_code].append((key, value))\n",
        "\n",
        "  def __getitem__(self, key):\n",
        "    hash_code = self.hash(key)\n",
        "    for element in self.data_base[hash_code]:\n",
        "      if element is not None and element[0] == key:\n",
        "        return element[1]\n",
        "    return None\n",
        "\n",
        "  def __delitem__(self, key):\n",
        "    hash_code = self.hash(key)\n",
        "    for index, element in enumerate(self.data_base[hash_code]):\n",
        "      if element[0] == key:\n",
        "        del self.data_base[hash_code][index]"
      ]
    },
    {
      "cell_type": "code",
      "source": [
        "hmc = HashMapCollision()\n",
        "hmc[\"foo\"] = \"Coding\"\n",
        "hmc[\"lst\"] = \"Reading\"\n",
        "print(hmc.data_base)\n",
        "print(hmc[\"foo\"])\n",
        "del hmc[\"lst\"]\n",
        "print(hmc.data_base)"
      ],
      "metadata": {
        "colab": {
          "base_uri": "https://localhost:8080/"
        },
        "id": "nC8vbH9u6Tb4",
        "outputId": "6eca6854-13ce-46f4-b256-a93eee918569"
      },
      "execution_count": 18,
      "outputs": [
        {
          "output_type": "stream",
          "name": "stdout",
          "text": [
            "[[], [], [], [], [('foo', 'Coding')], [], [], [], [], [('lst', 'Reading')]]\n",
            "Coding\n",
            "[[], [], [], [], [('foo', 'Coding')], [], [], [], [], []]\n"
          ]
        }
      ]
    }
  ]
}